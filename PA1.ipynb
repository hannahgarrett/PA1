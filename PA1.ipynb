{
 "cells": [
  {
   "cell_type": "markdown",
   "id": "9a039d10",
   "metadata": {},
   "source": [
    "# Programming Assignment 1\n",
    "## Hannah Garrett\n",
    "### CS 150\n",
    "### Computer Programming for the Liberal Arts\n",
    "### Fall 2022 Section 1"
   ]
  },
  {
   "cell_type": "code",
   "execution_count": 5,
   "id": "0d23b4e4",
   "metadata": {},
   "outputs": [
    {
     "name": "stdout",
     "output_type": "stream",
     "text": [
      "Enter a floating point number: 44.3\n"
     ]
    }
   ],
   "source": [
    "number=float(input('Enter a floating point number: '))"
   ]
  },
  {
   "cell_type": "code",
   "execution_count": 6,
   "id": "0ef2a959",
   "metadata": {},
   "outputs": [
    {
     "name": "stdout",
     "output_type": "stream",
     "text": [
      "Enter an integer: 16\n"
     ]
    }
   ],
   "source": [
    "number1=int(input('Enter an integer: '))"
   ]
  },
  {
   "cell_type": "code",
   "execution_count": 7,
   "id": "daa27850",
   "metadata": {},
   "outputs": [
    {
     "name": "stdout",
     "output_type": "stream",
     "text": [
      "The sum is:  60.3\n"
     ]
    }
   ],
   "source": [
    "print('The sum is: ', (number+number1))"
   ]
  },
  {
   "cell_type": "code",
   "execution_count": 8,
   "id": "6474b0e7",
   "metadata": {},
   "outputs": [
    {
     "name": "stdout",
     "output_type": "stream",
     "text": [
      "The difference is:  28.299999999999997\n"
     ]
    }
   ],
   "source": [
    "print('The difference is: ', (number-number1))"
   ]
  },
  {
   "cell_type": "code",
   "execution_count": 9,
   "id": "5a348f10",
   "metadata": {},
   "outputs": [
    {
     "name": "stdout",
     "output_type": "stream",
     "text": [
      "The product is:  708.8\n"
     ]
    }
   ],
   "source": [
    "print('The product is: ', (number*number1))"
   ]
  },
  {
   "cell_type": "code",
   "execution_count": 10,
   "id": "8558e314",
   "metadata": {},
   "outputs": [
    {
     "name": "stdout",
     "output_type": "stream",
     "text": [
      "The quotient is:  2.76875\n"
     ]
    }
   ],
   "source": [
    "print('The quotient is: ', (number/number1))"
   ]
  },
  {
   "cell_type": "code",
   "execution_count": 11,
   "id": "8f63a4b3",
   "metadata": {},
   "outputs": [
    {
     "name": "stdout",
     "output_type": "stream",
     "text": [
      "<class 'float'>\n"
     ]
    }
   ],
   "source": [
    "print(type(number))"
   ]
  }
 ],
 "metadata": {
  "kernelspec": {
   "display_name": "Python 3 (ipykernel)",
   "language": "python",
   "name": "python3"
  },
  "language_info": {
   "codemirror_mode": {
    "name": "ipython",
    "version": 3
   },
   "file_extension": ".py",
   "mimetype": "text/x-python",
   "name": "python",
   "nbconvert_exporter": "python",
   "pygments_lexer": "ipython3",
   "version": "3.9.12"
  }
 },
 "nbformat": 4,
 "nbformat_minor": 5
}
